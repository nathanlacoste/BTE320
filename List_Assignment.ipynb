{
  "nbformat": 4,
  "nbformat_minor": 0,
  "metadata": {
    "colab": {
      "provenance": [],
      "authorship_tag": "ABX9TyPOxNyBfT/a/DiqZEQRGTA9",
      "include_colab_link": true
    },
    "kernelspec": {
      "name": "python3",
      "display_name": "Python 3"
    },
    "language_info": {
      "name": "python"
    }
  },
  "cells": [
    {
      "cell_type": "markdown",
      "metadata": {
        "id": "view-in-github",
        "colab_type": "text"
      },
      "source": [
        "<a href=\"https://colab.research.google.com/github/nathanlacoste/BTE320/blob/main/List_Assignment.ipynb\" target=\"_parent\"><img src=\"https://colab.research.google.com/assets/colab-badge.svg\" alt=\"Open In Colab\"/></a>"
      ]
    },
    {
      "cell_type": "code",
      "execution_count": 14,
      "metadata": {
        "colab": {
          "base_uri": "https://localhost:8080/"
        },
        "id": "IVjcr0yLz_-s",
        "outputId": "fedc0df9-34ee-4b0d-e96c-ad70e8defb2c"
      },
      "outputs": [
        {
          "output_type": "stream",
          "name": "stdout",
          "text": [
            "Enter Value for List: 10\n",
            "Enter Value for List: 20\n",
            "Enter Value for List: 0\n",
            "Final List:  [10, 20]\n"
          ]
        }
      ],
      "source": [
        "# User inputs list, computer appends the list as long as the user doesnt input the number 0, when user inputs 0, end the adding, end print list\n",
        "\n",
        "L = []\n",
        "userinput = int(input('Enter Value for List: '))\n",
        "\n",
        "while userinput != 0:\n",
        "  L.append(userinput)\n",
        "  userinput = int(input('Enter Value for List: '))\n",
        "\n",
        "print('Final List: ', L)\n"
      ]
    }
  ]
}